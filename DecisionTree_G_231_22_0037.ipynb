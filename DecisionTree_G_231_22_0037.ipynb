{
  "nbformat": 4,
  "nbformat_minor": 0,
  "metadata": {
    "colab": {
      "provenance": []
    },
    "kernelspec": {
      "name": "python3",
      "display_name": "Python 3"
    },
    "language_info": {
      "name": "python"
    }
  },
  "cells": [
    {
      "cell_type": "code",
      "execution_count": null,
      "metadata": {
        "id": "UZ_oVtXxFjTe"
      },
      "outputs": [],
      "source": [
        "from matplotlib import pyplot as plt\n",
        "from sklearn import datasets\n",
        "from sklearn.tree import DecisionTreeClassifier\n",
        "from sklearn import tree"
      ]
    },
    {
      "cell_type": "code",
      "source": [
        "# Pripare the data data\n",
        "iris = datasets.load_iris()\n",
        "X = iris.data\n",
        "y = iris.target"
      ],
      "metadata": {
        "id": "6aCZ-arxGRdK"
      },
      "execution_count": null,
      "outputs": []
    },
    {
      "cell_type": "code",
      "source": [
        "# Fit the classifier with default hyper-parameters\n",
        "clf = DecisionTreeClassifier(random_state=1234)\n",
        "model = clf.fit(X, y)"
      ],
      "metadata": {
        "id": "BRegQgQOGhHf"
      },
      "execution_count": null,
      "outputs": []
    },
    {
      "cell_type": "code",
      "source": [
        "text_representation = tree.export_text(clf)\n",
        "print(text_representation)\n"
      ],
      "metadata": {
        "id": "bulKC83SG4-i"
      },
      "execution_count": null,
      "outputs": []
    },
    {
      "cell_type": "code",
      "source": [
        "with open(\"decistion_tree.log\", \"w\") as fout:\n",
        "  fout.write(text_representation)"
      ],
      "metadata": {
        "id": "yfSeRBpVHMn_"
      },
      "execution_count": null,
      "outputs": []
    },
    {
      "cell_type": "code",
      "source": [
        "fig = plt.figure(figsize=(25,30))\n",
        "_ = tree.plot(clf,\n",
        "              feature_names=iris.feature_names,\n",
        "              class_name=iris.target_names,\n",
        "              filled=True)"
      ],
      "metadata": {
        "id": "4x0fLNxwH2cM"
      },
      "execution_count": null,
      "outputs": []
    },
    {
      "cell_type": "code",
      "source": [
        "flg.savefig(\"decistion_tree_nim.png\")"
      ],
      "metadata": {
        "id": "CHexLSfSIQmx"
      },
      "execution_count": null,
      "outputs": []
    },
    {
      "cell_type": "code",
      "source": [
        "import graphviz\n",
        "# DOT data\n",
        "dot_data = tree.export_graphviz(clf, out_file=None,\n",
        "                                feature_names=iris.feature_names,\n",
        "                                class_names=iris.target_names,\n",
        "                                filled=True)\n",
        "\n",
        "# Draw graph\n",
        "graph = graphviz.Source(dot.data, format=\"png\")\n",
        "graph"
      ],
      "metadata": {
        "id": "wLcHEyZtIbRB"
      },
      "execution_count": null,
      "outputs": []
    },
    {
      "cell_type": "code",
      "source": [
        "graph.render(\"decision_tree_graphviz\")\n",
        "'decision_tree_graphviz.png'"
      ],
      "metadata": {
        "id": "-jJHHzW4JENL"
      },
      "execution_count": null,
      "outputs": []
    },
    {
      "cell_type": "code",
      "source": [],
      "metadata": {
        "id": "o6Dpo1CmJPYY"
      },
      "execution_count": null,
      "outputs": []
    }
  ]
}